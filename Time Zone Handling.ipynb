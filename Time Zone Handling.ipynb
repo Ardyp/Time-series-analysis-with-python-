{
 "cells": [
  {
   "cell_type": "code",
   "execution_count": 1,
   "metadata": {},
   "outputs": [],
   "source": [
    "import numpy as np\n",
    "import pandas as pd"
   ]
  },
  {
   "cell_type": "code",
   "execution_count": 2,
   "metadata": {},
   "outputs": [],
   "source": [
    "rng = pd.date_range('3/6/2012 00:00', periods = 15, freq = 'D')\n",
    "rng.tz"
   ]
  },
  {
   "cell_type": "code",
   "execution_count": 3,
   "metadata": {},
   "outputs": [],
   "source": [
    "rng_tz = pd.date_range('3/6/2012 00:00', periods = 15, freq = 'D')\n",
    "rng_tz.tz"
   ]
  },
  {
   "cell_type": "code",
   "execution_count": 4,
   "metadata": {},
   "outputs": [],
   "source": [
    "rng_tz.tz"
   ]
  },
  {
   "cell_type": "code",
   "execution_count": 5,
   "metadata": {},
   "outputs": [
    {
     "name": "stdout",
     "output_type": "stream",
     "text": [
      "439\n",
      "592\n",
      "set(['Etc/GMT+9', 'Etc/GMT+8', 'America/Buenos_Aires', 'Etc/GMT+3', 'Etc/GMT+2', 'Etc/GMT+1', 'Etc/GMT+0', 'Etc/GMT+7', 'Etc/GMT+6', 'Etc/GMT+5', 'Etc/GMT+4', 'Asia/Calcutta', 'Australia/South', 'America/Atka', 'America/Coral_Harbour', 'America/Fort_Wayne', 'PRC', 'Asia/Thimbu', 'Africa/Timbuktu', 'Asia/Kashgar', 'HST', 'Hongkong', 'Brazil/DeNoronha', 'Etc/Universal', 'GB', 'WET', 'Canada/Yukon', 'Jamaica', 'America/Indianapolis', 'Pacific/Truk', 'Pacific/Yap', 'Asia/Rangoon', 'America/Santa_Isabel', 'America/Ensenada', 'Brazil/Acre', 'Turkey', 'Asia/Dacca', 'America/Cordoba', 'EET', 'Asia/Harbin', 'Etc/GMT-9', 'Etc/GMT-8', 'Etc/GMT-1', 'Australia/Tasmania', 'Etc/GMT-3', 'Etc/GMT-2', 'Etc/GMT-5', 'Etc/GMT-4', 'Etc/GMT-7', 'Etc/GMT-6', 'Asia/Macao', 'Australia/Canberra', 'ROK', 'Asia/Ujung_Pandang', 'Cuba', 'Asia/Saigon', 'ROC', 'America/Louisville', 'CET', 'America/Porto_Acre', 'Navajo', 'Etc/GMT-13', 'Australia/West', 'Brazil/West', 'Libya', 'Canada/Saskatchewan', 'Etc/UCT', 'Iran', 'GB-Eire', 'Etc/Greenwich', 'America/Catamarca', 'Portugal', 'Europe/Tiraspol', 'Asia/Katmandu', 'Etc/GMT+11', 'Etc/GMT+10', 'Etc/GMT0', 'Pacific/Ponape', 'Japan', 'Asia/Ulan_Bator', 'Kwajalein', 'Australia/Yancowinna', 'Greenwich', 'America/Mendoza', 'America/Jujuy', 'PST8PDT', 'EST5EDT', 'US/East-Indiana', 'America/Argentina/ComodRivadavia', 'US/Pacific-New', 'Chile/Continental', 'Asia/Tel_Aviv', 'Asia/Istanbul', 'MST7MDT', 'GMT0', 'Australia/Victoria', 'US/Aleutian', 'Australia/ACT', 'Australia/North', 'US/Samoa', 'US/Michigan', 'Asia/Chungking', 'NZ', 'Asia/Ashkhabad', 'America/Knox_IN', 'Atlantic/Jan_Mayen', 'America/Shiprock', 'GMT+0', 'Poland', 'W-SU', 'US/Indiana-Starke', 'Australia/LHI', 'Pacific/Johnston', 'Chile/EasterIsland', 'Universal', 'MET', 'America/Virgin', 'Asia/Chongqing', 'Australia/NSW', 'Etc/Zulu', 'MST', 'Atlantic/Faeroe', 'Etc/GMT-0', 'Israel', 'UCT', 'NZ-CHAT', 'Etc/GMT+12', 'Etc/GMT', 'Iceland', 'Australia/Queensland', 'Europe/Nicosia', 'America/Rosario', 'EST', 'Mexico/BajaNorte', 'Eire', 'Etc/GMT-11', 'Etc/GMT-10', 'Europe/Belfast', 'Etc/GMT-12', 'Etc/GMT-14', 'Mexico/BajaSur', 'Mexico/General', 'CST6CDT', 'GMT-0', 'Pacific/Samoa', 'Zulu', 'Egypt', 'Singapore', 'America/Montreal', 'Etc/UTC', 'Brazil/East', 'Africa/Asmera', 'Antarctica/South_Pole'])\n"
     ]
    }
   ],
   "source": [
    "from pytz import common_timezones, all_timezones\n",
    "print(len(common_timezones))\n",
    "print(len(all_timezones))\n",
    "print(set(all_timezones) - set(common_timezones))"
   ]
  },
  {
   "cell_type": "code",
   "execution_count": 8,
   "metadata": {},
   "outputs": [
    {
     "data": {
      "text/plain": [
       "Timestamp('2016-07-10 08:50:00')"
      ]
     },
     "execution_count": 8,
     "metadata": {},
     "output_type": "execute_result"
    }
   ],
   "source": [
    "#you can also localize a navie timestamp\n",
    "t_navie = pd.Timestamp('2016-07-10 08:50')\n",
    "t_navie"
   ]
  },
  {
   "cell_type": "code",
   "execution_count": 11,
   "metadata": {},
   "outputs": [
    {
     "data": {
      "text/plain": [
       "Timestamp('2016-07-10 08:50:00-0500', tz='US/Central')"
      ]
     },
     "execution_count": 11,
     "metadata": {},
     "output_type": "execute_result"
    }
   ],
   "source": [
    "t = t_navie.tz_localize(tz = 'US/Central')\n",
    "t"
   ]
  },
  {
   "cell_type": "code",
   "execution_count": 13,
   "metadata": {},
   "outputs": [
    {
     "data": {
      "text/plain": [
       "Timestamp('2016-07-10 08:50:00')"
      ]
     },
     "execution_count": 13,
     "metadata": {},
     "output_type": "execute_result"
    }
   ],
   "source": [
    "t_navie # Doesn't do inplace"
   ]
  },
  {
   "cell_type": "code",
   "execution_count": 14,
   "metadata": {},
   "outputs": [
    {
     "data": {
      "text/plain": [
       "Timestamp('2016-07-10 22:50:00+0900', tz='Asia/Tokyo')"
      ]
     },
     "execution_count": 14,
     "metadata": {},
     "output_type": "execute_result"
    }
   ],
   "source": [
    "t.tz_convert('Asia/Tokyo')"
   ]
  },
  {
   "cell_type": "code",
   "execution_count": 15,
   "metadata": {},
   "outputs": [],
   "source": [
    "#The difference between tz.convert and tz.localize is that localize gives you the local time(sets) whereas the convert will take the time that's there and convert it to the timezone you wanted it in."
   ]
  },
  {
   "cell_type": "code",
   "execution_count": 16,
   "metadata": {},
   "outputs": [
    {
     "data": {
      "text/plain": [
       "2016-03-10 00:00:00-05:00    0\n",
       "2016-03-11 00:00:00-05:00    1\n",
       "2016-03-12 00:00:00-05:00    2\n",
       "2016-03-13 00:00:00-05:00    3\n",
       "2016-03-14 00:00:00-04:00    4\n",
       "2016-03-15 00:00:00-04:00    5\n",
       "2016-03-16 00:00:00-04:00    6\n",
       "2016-03-17 00:00:00-04:00    7\n",
       "2016-03-18 00:00:00-04:00    8\n",
       "2016-03-19 00:00:00-04:00    9\n",
       "Freq: D, dtype: int64"
      ]
     },
     "execution_count": 16,
     "metadata": {},
     "output_type": "execute_result"
    }
   ],
   "source": [
    "rng = pd.date_range('2016-03-10', periods = 10, tz = 'US/Eastern')\n",
    "ts = pd.Series(range(10), index = rng)\n",
    "ts"
   ]
  },
  {
   "cell_type": "code",
   "execution_count": 17,
   "metadata": {},
   "outputs": [
    {
     "data": {
      "text/plain": [
       "DatetimeIndex(['2011-11-06 00:00:00', '2011-11-06 01:00:00',\n",
       "               '2011-11-06 01:00:00', '2011-11-06 02:00:00',\n",
       "               '2011-11-06 03:00:00', '2011-11-06 04:00:00'],\n",
       "              dtype='datetime64[ns]', freq=None)"
      ]
     },
     "execution_count": 17,
     "metadata": {},
     "output_type": "execute_result"
    }
   ],
   "source": [
    "rng_hourly=pd.DatetimeIndex(['2011/11/06 00:00','2011/11/06 01:00','2011/11/06 01:00','2011/11/06 02:00',\n",
    "                               '2011/11/06 03:00','2011/11/06 04:00'])\n",
    "rng_hourly"
   ]
  },
  {
   "cell_type": "code",
   "execution_count": 18,
   "metadata": {},
   "outputs": [
    {
     "data": {
      "text/plain": [
       "DatetimeIndex(['2011-11-06 00:00:00-05:00', '2011-11-06 01:00:00-05:00',\n",
       "               '2011-11-06 01:00:00-06:00', '2011-11-06 02:00:00-06:00',\n",
       "               '2011-11-06 03:00:00-06:00', '2011-11-06 04:00:00-06:00'],\n",
       "              dtype='datetime64[ns, US/Central]', freq=None)"
      ]
     },
     "execution_count": 18,
     "metadata": {},
     "output_type": "execute_result"
    }
   ],
   "source": [
    "rng_hourly = rng_hourly.tz_localize('US/Central', ambiguous = 'infer')\n",
    "rng_hourly"
   ]
  },
  {
   "cell_type": "code",
   "execution_count": 19,
   "metadata": {},
   "outputs": [
    {
     "data": {
      "text/plain": [
       "DatetimeIndex(['2011-11-06 05:00:00+00:00', '2011-11-06 06:00:00+00:00',\n",
       "               '2011-11-06 07:00:00+00:00', '2011-11-06 08:00:00+00:00',\n",
       "               '2011-11-06 09:00:00+00:00', '2011-11-06 10:00:00+00:00'],\n",
       "              dtype='datetime64[ns, UTC]', freq=None)"
      ]
     },
     "execution_count": 19,
     "metadata": {},
     "output_type": "execute_result"
    }
   ],
   "source": [
    "#to check if it actually does what we want it to we should convert it to UTC to Check\n",
    "rng_hourly.tz_convert('UTC')"
   ]
  },
  {
   "cell_type": "code",
   "execution_count": 20,
   "metadata": {},
   "outputs": [
    {
     "data": {
      "text/plain": [
       "2016-03-10 00:00:00+00:00    0\n",
       "2016-03-11 00:00:00+00:00    1\n",
       "2016-03-12 00:00:00+00:00    2\n",
       "2016-03-13 00:00:00+00:00    3\n",
       "2016-03-14 00:00:00+00:00    4\n",
       "2016-03-15 00:00:00+00:00    5\n",
       "2016-03-16 00:00:00+00:00    6\n",
       "2016-03-17 00:00:00+00:00    7\n",
       "2016-03-18 00:00:00+00:00    8\n",
       "2016-03-19 00:00:00+00:00    9\n",
       "Freq: D, dtype: int64"
      ]
     },
     "execution_count": 20,
     "metadata": {},
     "output_type": "execute_result"
    }
   ],
   "source": [
    "rng = pd.date_range('2016-03-10', periods = 10, tz = 'UTC')\n",
    "ts = pd.Series(range(10), index = rng)\n",
    "ts\n",
    "\n"
   ]
  },
  {
   "cell_type": "code",
   "execution_count": 21,
   "metadata": {},
   "outputs": [
    {
     "data": {
      "text/plain": [
       "2016-03-09 18:00:00-06:00    0\n",
       "2016-03-10 18:00:00-06:00    1\n",
       "2016-03-11 18:00:00-06:00    2\n",
       "2016-03-12 18:00:00-06:00    3\n",
       "2016-03-13 19:00:00-05:00    4\n",
       "2016-03-14 19:00:00-05:00    5\n",
       "2016-03-15 19:00:00-05:00    6\n",
       "2016-03-16 19:00:00-05:00    7\n",
       "2016-03-17 19:00:00-05:00    8\n",
       "2016-03-18 19:00:00-05:00    9\n",
       "Freq: D, dtype: int64"
      ]
     },
     "execution_count": 21,
     "metadata": {},
     "output_type": "execute_result"
    }
   ],
   "source": [
    "ts.tz_convert('US/Central')"
   ]
  },
  {
   "cell_type": "code",
   "execution_count": 22,
   "metadata": {},
   "outputs": [
    {
     "data": {
      "text/plain": [
       "DatetimeIndex(['2016-03-12 22:00:00-05:00', '2016-03-12 23:00:00-05:00',\n",
       "               '2016-03-13 00:00:00-05:00', '2016-03-13 01:00:00-05:00',\n",
       "               '2016-03-13 03:00:00-04:00', '2016-03-13 04:00:00-04:00',\n",
       "               '2016-03-13 05:00:00-04:00', '2016-03-13 06:00:00-04:00',\n",
       "               '2016-03-13 07:00:00-04:00', '2016-03-13 08:00:00-04:00',\n",
       "               '2016-03-13 09:00:00-04:00', '2016-03-13 10:00:00-04:00'],\n",
       "              dtype='datetime64[ns, US/Eastern]', freq='H')"
      ]
     },
     "execution_count": 22,
     "metadata": {},
     "output_type": "execute_result"
    }
   ],
   "source": [
    "pd.date_range('03-12-2016 22:00', periods = 12, freq = 'H', tz = 'US/Eastern')"
   ]
  },
  {
   "cell_type": "code",
   "execution_count": 24,
   "metadata": {},
   "outputs": [
    {
     "ename": "NonExistentTimeError",
     "evalue": "2016-03-13 02:00:00",
     "output_type": "error",
     "traceback": [
      "\u001b[1;31m\u001b[0m",
      "\u001b[1;31mNonExistentTimeError\u001b[0mTraceback (most recent call last)",
      "\u001b[1;32m<ipython-input-24-db52ff5ccce8>\u001b[0m in \u001b[0;36m<module>\u001b[1;34m()\u001b[0m\n\u001b[0;32m      1\u001b[0m \u001b[1;31m# May autocorrect an error rather than giving you a non-existent time error\u001b[0m\u001b[1;33m\u001b[0m\u001b[1;33m\u001b[0m\u001b[0m\n\u001b[1;32m----> 2\u001b[1;33m \u001b[0mpd\u001b[0m\u001b[1;33m.\u001b[0m\u001b[0mTimestamp\u001b[0m\u001b[1;33m(\u001b[0m\u001b[1;34m'2016-03-13 02:00'\u001b[0m\u001b[1;33m,\u001b[0m \u001b[0mtz\u001b[0m \u001b[1;33m=\u001b[0m \u001b[1;34m'US/Eastern'\u001b[0m\u001b[1;33m)\u001b[0m\u001b[1;33m\u001b[0m\u001b[0m\n\u001b[0m",
      "\u001b[1;32mpandas/_libs/tslib.pyx\u001b[0m in \u001b[0;36mpandas._libs.tslib.Timestamp.__new__\u001b[1;34m()\u001b[0m\n",
      "\u001b[1;32mpandas/_libs/tslib.pyx\u001b[0m in \u001b[0;36mpandas._libs.tslib.convert_to_tsobject\u001b[1;34m()\u001b[0m\n",
      "\u001b[1;32mpandas/_libs/tslib.pyx\u001b[0m in \u001b[0;36mpandas._libs.tslib.convert_str_to_tsobject\u001b[1;34m()\u001b[0m\n",
      "\u001b[1;32mpandas/_libs/tslib.pyx\u001b[0m in \u001b[0;36mpandas._libs.tslib.tz_localize_to_utc\u001b[1;34m()\u001b[0m\n",
      "\u001b[1;31mNonExistentTimeError\u001b[0m: 2016-03-13 02:00:00"
     ]
    }
   ],
   "source": [
    "# May autocorrect an error rather than giving you a non-existent time error\n",
    "pd.Timestamp('2016-03-13 02:00', tz = 'US/Eastern')"
   ]
  },
  {
   "cell_type": "code",
   "execution_count": null,
   "metadata": {},
   "outputs": [],
   "source": []
  }
 ],
 "metadata": {
  "kernelspec": {
   "display_name": "Python 2",
   "language": "python",
   "name": "python2"
  },
  "language_info": {
   "codemirror_mode": {
    "name": "ipython",
    "version": 2
   },
   "file_extension": ".py",
   "mimetype": "text/x-python",
   "name": "python",
   "nbconvert_exporter": "python",
   "pygments_lexer": "ipython2",
   "version": "2.7.14"
  }
 },
 "nbformat": 4,
 "nbformat_minor": 2
}
