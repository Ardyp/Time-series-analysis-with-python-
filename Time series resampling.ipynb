{
 "cells": [
  {
   "cell_type": "code",
   "execution_count": 1,
   "metadata": {},
   "outputs": [],
   "source": [
    "import pandas as pd\n",
    "import numpy as np"
   ]
  },
  {
   "cell_type": "code",
   "execution_count": 8,
   "metadata": {},
   "outputs": [
    {
     "data": {
      "text/plain": [
       "2011-01-01 00:00:00   -0.548468\n",
       "2011-01-01 01:00:00   -0.654314\n",
       "2011-01-01 02:00:00    2.832565\n",
       "2011-01-01 03:00:00    0.701146\n",
       "2011-01-01 04:00:00   -0.342221\n",
       "Freq: H, dtype: float64"
      ]
     },
     "execution_count": 8,
     "metadata": {},
     "output_type": "execute_result"
    }
   ],
   "source": [
    "rng = pd.date_range('1/1/2011', periods =72, freq = 'H')\n",
    "ts = pd.Series(np.random.randn(len(rng)), index = rng)\n",
    "ts.head()"
   ]
  },
  {
   "cell_type": "code",
   "execution_count": 9,
   "metadata": {},
   "outputs": [
    {
     "data": {
      "text/plain": [
       "2011-01-01 00:00:00   -0.548468\n",
       "2011-01-01 00:45:00   -0.548468\n",
       "2011-01-01 01:30:00   -0.654314\n",
       "2011-01-01 02:15:00    2.832565\n",
       "2011-01-01 03:00:00    0.701146\n",
       "Freq: 45T, dtype: float64"
      ]
     },
     "execution_count": 9,
     "metadata": {},
     "output_type": "execute_result"
    }
   ],
   "source": [
    "converted = ts.asfreq('45Min', method = 'pad')\n",
    "converted.head()"
   ]
  },
  {
   "cell_type": "code",
   "execution_count": 11,
   "metadata": {},
   "outputs": [],
   "source": [
    "#Does asfreq change the no of rows? yes, it gives more rows\n",
    "\n",
    "#What do the different methods do? method : {‘backfill’, ‘bfill’, ‘pad’, ‘ffill’, None} \n",
    "# ffill or pad will use the previous cell's data to fill the values \n",
    "\n",
    "#bfill or backfill will use the next cell's data to fill the values Padfill is more common since you'll always know the last known value. \n",
    "\n",
    "#None will give you a NaN where there is no data\n",
    "\n",
    "#Might any of these methods have pitfalls from a logical point of view? Since you are extrapolating or interapolating, the values might not be very accurate."
   ]
  },
  {
   "cell_type": "code",
   "execution_count": null,
   "metadata": {},
   "outputs": [],
   "source": [
    "#Whats the difference between going to a higher frequency and a lower frequency ? Your rows reduce or increase depending on the frequency"
   ]
  },
  {
   "cell_type": "code",
   "execution_count": 18,
   "metadata": {},
   "outputs": [
    {
     "data": {
      "text/plain": [
       "2011-01-01 00:00:00   -0.548468\n",
       "2011-01-01 00:01:00   -0.654314\n",
       "2011-01-01 00:02:00   -0.654314\n",
       "2011-01-01 00:03:00   -0.654314\n",
       "2011-01-01 00:04:00   -0.654314\n",
       "2011-01-01 00:05:00   -0.654314\n",
       "2011-01-01 00:06:00   -0.654314\n",
       "2011-01-01 00:07:00   -0.654314\n",
       "2011-01-01 00:08:00   -0.654314\n",
       "2011-01-01 00:09:00   -0.654314\n",
       "2011-01-01 00:10:00   -0.654314\n",
       "2011-01-01 00:11:00   -0.654314\n",
       "2011-01-01 00:12:00   -0.654314\n",
       "2011-01-01 00:13:00   -0.654314\n",
       "2011-01-01 00:14:00   -0.654314\n",
       "2011-01-01 00:15:00   -0.654314\n",
       "2011-01-01 00:16:00   -0.654314\n",
       "2011-01-01 00:17:00   -0.654314\n",
       "2011-01-01 00:18:00   -0.654314\n",
       "2011-01-01 00:19:00   -0.654314\n",
       "2011-01-01 00:20:00   -0.654314\n",
       "2011-01-01 00:21:00   -0.654314\n",
       "2011-01-01 00:22:00   -0.654314\n",
       "2011-01-01 00:23:00   -0.654314\n",
       "2011-01-01 00:24:00   -0.654314\n",
       "2011-01-01 00:25:00   -0.654314\n",
       "2011-01-01 00:26:00   -0.654314\n",
       "2011-01-01 00:27:00   -0.654314\n",
       "2011-01-01 00:28:00   -0.654314\n",
       "2011-01-01 00:29:00   -0.654314\n",
       "                         ...   \n",
       "2011-01-03 22:31:00    0.696041\n",
       "2011-01-03 22:32:00    0.696041\n",
       "2011-01-03 22:33:00    0.696041\n",
       "2011-01-03 22:34:00    0.696041\n",
       "2011-01-03 22:35:00    0.696041\n",
       "2011-01-03 22:36:00    0.696041\n",
       "2011-01-03 22:37:00    0.696041\n",
       "2011-01-03 22:38:00    0.696041\n",
       "2011-01-03 22:39:00    0.696041\n",
       "2011-01-03 22:40:00    0.696041\n",
       "2011-01-03 22:41:00    0.696041\n",
       "2011-01-03 22:42:00    0.696041\n",
       "2011-01-03 22:43:00    0.696041\n",
       "2011-01-03 22:44:00    0.696041\n",
       "2011-01-03 22:45:00    0.696041\n",
       "2011-01-03 22:46:00    0.696041\n",
       "2011-01-03 22:47:00    0.696041\n",
       "2011-01-03 22:48:00    0.696041\n",
       "2011-01-03 22:49:00    0.696041\n",
       "2011-01-03 22:50:00    0.696041\n",
       "2011-01-03 22:51:00    0.696041\n",
       "2011-01-03 22:52:00    0.696041\n",
       "2011-01-03 22:53:00    0.696041\n",
       "2011-01-03 22:54:00    0.696041\n",
       "2011-01-03 22:55:00    0.696041\n",
       "2011-01-03 22:56:00    0.696041\n",
       "2011-01-03 22:57:00    0.696041\n",
       "2011-01-03 22:58:00    0.696041\n",
       "2011-01-03 22:59:00    0.696041\n",
       "2011-01-03 23:00:00    0.696041\n",
       "Freq: T, Length: 4261, dtype: float64"
      ]
     },
     "execution_count": 18,
     "metadata": {},
     "output_type": "execute_result"
    }
   ],
   "source": [
    "converted = ts.asfreq('1Min', method = 'bfill')\n",
    "converted"
   ]
  },
  {
   "cell_type": "code",
   "execution_count": 19,
   "metadata": {},
   "outputs": [],
   "source": [
    "#Whats different logically about going to a higher frequency vs a lower frequency ? what do you want to do when switiching to a lower frequency that is not logical when switiching to a higher frequency ? when you go to a higher frequency you will have less data vs when you are at a low frequency\n",
    "\n",
    "# When your up sampling or going to a higher frequency you will want to interapolate"
   ]
  },
  {
   "cell_type": "code",
   "execution_count": 22,
   "metadata": {},
   "outputs": [
    {
     "data": {
      "text/plain": [
       "2011-01-01    9.702381\n",
       "2011-01-02    3.235547\n",
       "2011-01-03    3.082198\n",
       "Freq: D, dtype: float64"
      ]
     },
     "execution_count": 22,
     "metadata": {},
     "output_type": "execute_result"
    }
   ],
   "source": [
    "ts.resample('D').sum()"
   ]
  },
  {
   "cell_type": "code",
   "execution_count": 23,
   "metadata": {},
   "outputs": [
    {
     "data": {
      "text/plain": [
       "2011-01-01 02:00:00    1.766855\n",
       "2011-01-01 04:00:00    0.377428\n",
       "2011-01-01 06:00:00    0.926664\n",
       "2011-01-01 08:00:00   -0.185052\n",
       "2011-01-01 10:00:00    0.062159\n",
       "2011-01-01 12:00:00    0.465652\n",
       "2011-01-01 14:00:00    1.349281\n",
       "2011-01-01 16:00:00   -0.442075\n",
       "2011-01-01 18:00:00    1.845291\n",
       "Freq: 2H, dtype: float64"
      ]
     },
     "execution_count": 23,
     "metadata": {},
     "output_type": "execute_result"
    }
   ],
   "source": [
    "ts.resample('2H').mean()[1:10]"
   ]
  },
  {
   "cell_type": "code",
   "execution_count": null,
   "metadata": {},
   "outputs": [],
   "source": [
    "# What if you want to downsample and you dont want to ffill or bfill ? You make the method none when you want to use either ffill or bfill\n",
    "# What is the difference between .resample() and .asfreq() ? Resampling is almost like an object in which you can take aggregate, quantile etc. Resample() is more general than asfreq()\n",
    "# what are some special things you can do with .resample() you cant do with asfreq() ? mean(), aggregate(), sum() are some of the special things you can do with resample() which we cant do with .asfreq()\n"
   ]
  }
 ],
 "metadata": {
  "kernelspec": {
   "display_name": "Python 2",
   "language": "python",
   "name": "python2"
  },
  "language_info": {
   "codemirror_mode": {
    "name": "ipython",
    "version": 2
   },
   "file_extension": ".py",
   "mimetype": "text/x-python",
   "name": "python",
   "nbconvert_exporter": "python",
   "pygments_lexer": "ipython2",
   "version": "2.7.14"
  }
 },
 "nbformat": 4,
 "nbformat_minor": 2
}
